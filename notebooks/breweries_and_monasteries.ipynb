{
 "cells": [
  {
   "attachments": {},
   "cell_type": "markdown",
   "metadata": {},
   "source": [
    "Wir benötigen drei Pakete:\n",
    "\n",
    "- `pandas` -> Tabellenkalkulation in Python. In `pandas` wird eine Tabelle als `DataFrame` bezeichnet.\n",
    "- `shapely` -> beinhaltet Datentypen für Geometrien (z.B. Punkte, Linien, Polygone)\n",
    "- `geopandas` -> Erweiterung von `pandas`. Assoziert jede Tabellenzeile mit einer `shapely`-Geometrie. Ermöglicht z.B. räumliche Abfragen: Welche Zeilen befinden sich innerhalb eines bestimmten Bereichs?"
   ]
  },
  {
   "cell_type": "code",
   "execution_count": null,
   "metadata": {},
   "outputs": [],
   "source": [
    "# imports\n",
    "import pandas\n",
    "import shapely\n",
    "import geopandas"
   ]
  },
  {
   "attachments": {},
   "cell_type": "markdown",
   "metadata": {},
   "source": [
    "### Einlesen der Klöster- & Brauereitabellen\n",
    "\n",
    "1. Einlesen als `pandas`-Data Frame mit der `pandas`-Funktion [`read_csv()`](https://pandas.pydata.org/docs/reference/api/pandas.read_csv.html)\n",
    "    - `converters` -> Erlaubt die Definition von Funktionen für das Einlesen bestimmter Spalten. `shapely.wkt.loads` interpretiert einen String als `shapely`-Geometrie\n",
    "    - `dtype` -> Erlaubt die Zuweisung elementarer Datentypen für bestimmte Spalten. Standard für numerische Strings sind Gleitkommazahlen, Jahre sind aber ganzzahlig.\n",
    "2. Konvertierung in einen `geopandas` GeoDataFrame & Definition des Koordinatensystems (CRS = Coordinate Reference System). `4283` ist der Identifikator für [World Geodetic System 1984](https://epsg.io/4326). Dieses Koordinatenformat ist im Internet am häufigsten anzutreffen -> Kugelkoordinaten, Angabe in Grad (Breitengrad, Längengrad | Latitude, Longitude | lat, lon)"
   ]
  },
  {
   "cell_type": "code",
   "execution_count": null,
   "metadata": {},
   "outputs": [],
   "source": [
    "monasteries = pandas.read_csv('../data/monasteries.csv', converters={'geometry': shapely.wkt.loads}, dtype={'foundingYear': int})\n",
    "monasteries = geopandas.GeoDataFrame(monasteries, crs=4326)\n",
    "monasteries.head()"
   ]
  },
  {
   "cell_type": "code",
   "execution_count": null,
   "metadata": {},
   "outputs": [],
   "source": [
    "# data type of entry in the 1st row of column 'geometry'\n",
    "type(monasteries['geometry'][0])"
   ]
  },
  {
   "attachments": {},
   "cell_type": "markdown",
   "metadata": {},
   "source": [
    "In der Brauereitabelle ist nicht für jede Brauerei ein Gründungsjahr angegeben. Darum definieren wir eine Funktion, die das Gründungsjahr nur dann als einen Ganzzahl interpretiert, wenn auch ein Wert vorhanden ist. Die Verwendung von `dtype` würde einen Fehler verursachen, wenn in einer Zeile kein Wert für Gründungsjahr vorhanden ist, da ein nicht vorhandener Wert nicht als Ganzahl interpretiert werden kann."
   ]
  },
  {
   "cell_type": "code",
   "execution_count": null,
   "metadata": {},
   "outputs": [],
   "source": [
    "breweries = pandas.read_csv('../data/breweries.csv', converters={'geometry': shapely.wkt.loads, 'foundingYear': lambda x: int(x) if x else x})\n",
    "breweries = geopandas.GeoDataFrame(breweries, crs=4326)\n",
    "breweries.head()"
   ]
  },
  {
   "attachments": {},
   "cell_type": "markdown",
   "metadata": {},
   "source": [
    "Die Funktion [`explore()`](https://geopandas.org/en/stable/docs/reference/api/geopandas.GeoDataFrame.explore.html) von `geopandas` stellt eine GeoDataFrame auf einer Karte dar."
   ]
  },
  {
   "cell_type": "code",
   "execution_count": null,
   "metadata": {},
   "outputs": [],
   "source": [
    "monasteries.explore(\n",
    "    color = \"cornflowerblue\", \n",
    "    marker_kwds=dict(radius=5),\n",
    "    popup =True,    \n",
    "    width =800,\n",
    "    height = 500\n",
    "    )\n"
   ]
  },
  {
   "attachments": {},
   "cell_type": "markdown",
   "metadata": {},
   "source": [
    "Zur Darstellung mehrerer GeoDataFrames auf einer Karte, kann der Rückgabewert von `explore()` (also die Karte) in einer Variable gespeichert werden (`map`). Die Variable kann dann, wenn `explore()` für einen anderen GeoDataFrame aufgerufen wird, übergeben werden (`m = map`)."
   ]
  },
  {
   "cell_type": "code",
   "execution_count": null,
   "metadata": {},
   "outputs": [],
   "source": [
    "map = monasteries.explore(\n",
    "    color = \"cornflowerblue\", \n",
    "    marker_kwds=dict(radius=5), \n",
    "    popup =True,\n",
    "    width =800,\n",
    "    height = 500\n",
    "    )\n",
    "breweries.explore(\n",
    "    m = map, \n",
    "    color = \"tomato\", \n",
    "    marker_kwds=dict(radius=3), \n",
    "    popup =True\n",
    "    )"
   ]
  },
  {
   "attachments": {},
   "cell_type": "markdown",
   "metadata": {},
   "source": [
    "[`sjoin_nearest`](https://geopandas.org/en/stable/docs/reference/api/geopandas.GeoDataFrame.sjoin_nearest.html#geopandas.GeoDataFrame.sjoin_nearest) steht für *spatial join nearest*, also die Verknüpfung zweier GeoDataFrames auf Basis der geringsten Distanz. Für jede Zeile im linken DataFrame (`left_df`), wird der rechte DataFrame (`right_df`) nach dem Eintrag mit der geringesten räumlichen Distanz durchsucht. Der Eintrag mit der geringesten Distanz wird dieser Zeile dann hinzugefügt, die Distanz wird in der Spalte \"distance\" gespeichert (definiert mit `distance_col=\"distance\"`)."
   ]
  },
  {
   "cell_type": "code",
   "execution_count": null,
   "metadata": {},
   "outputs": [],
   "source": [
    "joined_df = geopandas.sjoin_nearest(left_df = breweries, right_df=monasteries, distance_col=\"distance\")\n",
    "joined_df.head()"
   ]
  },
  {
   "attachments": {},
   "cell_type": "markdown",
   "metadata": {},
   "source": [
    "Warnung: `UserWarning: Geometry is in a geographic CRS. Results from 'sjoin_nearest' are likely incorrect. Use 'GeoSeries.to_crs()' to re-project geometries to a projected CRS before this operation.`\n",
    "\n",
    "Ein __geographisches Koordinatensystem__, ist ein System das auf einer __spährischen Oberfläche__ basiert. Die Angabe der Koordinaten erfolgt in Grad.<br>\n",
    "Ein __projiziertes Koordinatensystem__, projiziert eine spährische Oberfläche auf eine __Ebene__. \n",
    "\n",
    "Die Funktion `sjoin_nearest()`, nutzt den Satz des Pythagoras zur Distanzbestimmung (nur in der Ebene gültig). Es gibt sehr viele projizierte Koordinatensysteme, die sich, je nach Anwendungsfall, besser oder schlechter eignen. \n",
    "\n",
    "Frage an ChatGPT: _„What is a suitable projected CRS for Germany?“_\n",
    "\n",
    ">*“There are several projected coordinate reference systems (CRS) that are suitable for use in Germany, depending on the scale and purpose of your analysis. Here are a few options:*\n",
    "> \n",
    "> *[...]*\n",
    ">\n",
    "> *__2. ETRS89 / UTM Zone 32N (EPSG:25832)__: This is a commonly used projected CRS for Germany that is based on the European Terrestrial Reference System 1989 (ETRS89) and the UTM 32N zone. It has units of meters and is suitable for local-scale analyses.“*"
   ]
  },
  {
   "attachments": {},
   "cell_type": "markdown",
   "metadata": {},
   "source": [
    "Die Geometrien eines GeoDataFrames können mit der `geopandas`-Funktion `to_crs()` in ein anderes Koordinatensystem projiziert werden."
   ]
  },
  {
   "cell_type": "code",
   "execution_count": null,
   "metadata": {},
   "outputs": [],
   "source": [
    "breweries_projected = breweries.to_crs(\"EPSG:25832\")\n",
    "monasteries_projected = monasteries.to_crs(\"EPSG:25832\")"
   ]
  },
  {
   "attachments": {},
   "cell_type": "markdown",
   "metadata": {},
   "source": [
    "Erneuter Spatial Join. Dieses Mal geben wir die Einheit der Distanz mit im Spaltennamen an."
   ]
  },
  {
   "cell_type": "code",
   "execution_count": null,
   "metadata": {},
   "outputs": [],
   "source": [
    "joined_df = geopandas.sjoin_nearest(left_df = breweries_projected, right_df=monasteries_projected, distance_col=\"distance[m]\")\n",
    "joined_df.head()"
   ]
  },
  {
   "attachments": {},
   "cell_type": "markdown",
   "metadata": {},
   "source": [
    "Einstellung eines Histogramms mit 100 Körben für die Verteilung der Werte in der Spalte `distance[m]`."
   ]
  },
  {
   "cell_type": "code",
   "execution_count": null,
   "metadata": {},
   "outputs": [],
   "source": [
    "joined_df['distance[m]'].plot.hist(bins=100)"
   ]
  },
  {
   "attachments": {},
   "cell_type": "markdown",
   "metadata": {},
   "source": [
    "Im nächsten Codeblock wird der GeoDataFrame etwas \"aufgeräumt\". Wir ordnen die Spalten neu an, bennenen einige um und sortieren die Einträge nach der Spalte `distance[m]`."
   ]
  },
  {
   "cell_type": "code",
   "execution_count": null,
   "metadata": {},
   "outputs": [],
   "source": [
    "# reorder columns\n",
    "joined_df = joined_df.reindex(columns=['brewery', 'monastery', 'distance[m]', 'foundingYear_left', 'foundingYear_right', 'geometry'])\n",
    "# rename founding year columns\n",
    "joined_df = joined_df.rename(columns={'foundingYear_left': 'founding_brewery', 'foundingYear_right': 'founding_monastery'})\n",
    "# sort, reindex and drop old index\n",
    "joined_df = joined_df.sort_values(by='distance[m]').reset_index().drop(columns='index')\n",
    "joined_df.head(n=20)"
   ]
  },
  {
   "attachments": {},
   "cell_type": "markdown",
   "metadata": {},
   "source": [
    "Erneutes Darstellen des verknüpften GeoDataFrames. Mit der Angabe `column='distance[m]'` geben wir der Funktion `explore()` zu verstehen, dass wir uns für diese Spalte interessieren. Dies veranlasst, die Funktion dazu, die Marker, entspechend der Werte dieser Spalte, farbig zu kodieren. Mit Hilfe der `style_function` skalieren wir den Radius der Marker zuzätzlich in Abhängigkeit der Distanz (Die Größe der Marker entspricht jedoch nicht der tatsächlichen Distanz!)."
   ]
  },
  {
   "cell_type": "code",
   "execution_count": null,
   "metadata": {},
   "outputs": [],
   "source": [
    "joined_df.explore(\n",
    "    column='distance[m]', \n",
    "    style_kwds={\"style_function\": lambda x: {\"radius\": x[\"properties\"][\"distance[m]\"]/1000}}, \n",
    "    popup =True,    \n",
    "    width =800,\n",
    "    height = 500\n",
    "    )\n"
   ]
  },
  {
   "attachments": {},
   "cell_type": "markdown",
   "metadata": {},
   "source": [
    "Da wird unseren GeoDataFrame aufsteigend, nach der Distanz zum nächsten Kloster, sortiert haben, werden die Marker mit kleinem Radius, vor denen mit großem Radius gezeichnet. Wir sortieren den Datensatz nach absteigender Distanz, definieren eine Mindestgröße der Kreise (`+5` am Ende der `style_funtion`), wählen eine andere Farbkodierung (`cmap = \"cividis_r\"`) und einen anderen Style für die Hintergrundkarte (`tiles = \"Stamen Toner\"`). \n",
    "\n",
    "- [Verfügbare Colormaps](https://matplotlib.org/1.2.1/mpl_examples/pylab_examples/show_colormaps.pdf)"
   ]
  },
  {
   "cell_type": "code",
   "execution_count": null,
   "metadata": {},
   "outputs": [],
   "source": [
    "joined_df = joined_df.sort_values(by='distance[m]', ascending=False).reset_index().drop(columns='index')\n",
    "joined_df.explore(\n",
    "    column='distance[m]', \n",
    "    style_kwds={\"style_function\": lambda x: {\"radius\": (x[\"properties\"][\"distance[m]\"]/1000)+5}},  \n",
    "    popup =True,\n",
    "    width =800,\n",
    "    height = 500,\n",
    "    cmap = \"winter_r\",\n",
    "    tiles= \"Stamen Toner\"\n",
    "    )\n"
   ]
  }
 ],
 "metadata": {
  "kernelspec": {
   "display_name": "Python 3",
   "language": "python",
   "name": "python3"
  },
  "language_info": {
   "codemirror_mode": {
    "name": "ipython",
    "version": 3
   },
   "file_extension": ".py",
   "mimetype": "text/x-python",
   "name": "python",
   "nbconvert_exporter": "python",
   "pygments_lexer": "ipython3",
   "version": "3.11.1"
  },
  "orig_nbformat": 4
 },
 "nbformat": 4,
 "nbformat_minor": 2
}
