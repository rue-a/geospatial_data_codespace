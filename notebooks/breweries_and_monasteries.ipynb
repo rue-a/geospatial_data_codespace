{
 "cells": [
  {
   "cell_type": "code",
   "execution_count": null,
   "metadata": {},
   "outputs": [],
   "source": [
    "# imports\n",
    "import pandas\n",
    "import geopandas\n",
    "import shapely"
   ]
  },
  {
   "cell_type": "code",
   "execution_count": null,
   "metadata": {},
   "outputs": [],
   "source": [
    "monasteries = pandas.read_csv('../data/monasteries.csv', converters={'geometry': shapely.wkt.loads}, dtype={'foundingYear': int})\n",
    "monasteries = geopandas.GeoDataFrame(monasteries, crs=4326)\n",
    "monasteries.head()"
   ]
  },
  {
   "cell_type": "code",
   "execution_count": null,
   "metadata": {},
   "outputs": [],
   "source": [
    "breweries = pandas.read_csv('../data/breweries.csv', converters={'geometry': shapely.wkt.loads, 'foundingYear': lambda x: int(x) if x else x})\n",
    "breweries = geopandas.GeoDataFrame(breweries, crs=4326)\n",
    "breweries.head()"
   ]
  },
  {
   "cell_type": "code",
   "execution_count": null,
   "metadata": {},
   "outputs": [],
   "source": [
    "monasteries.explore(\n",
    "    color = \"cornflowerblue\", \n",
    "    marker_kwds=dict(radius=5),\n",
    "    popup =True,    \n",
    "    width =800,\n",
    "    height = 500\n",
    "    )\n"
   ]
  },
  {
   "cell_type": "code",
   "execution_count": null,
   "metadata": {},
   "outputs": [],
   "source": [
    "map = monasteries.explore(\n",
    "    color = \"cornflowerblue\", \n",
    "    marker_kwds=dict(radius=5), \n",
    "    popup =True,\n",
    "    width =800,\n",
    "    height = 500\n",
    "    )\n",
    "breweries.explore(\n",
    "    m = map, \n",
    "    color = \"tomato\", \n",
    "    marker_kwds=dict(radius=3), \n",
    "    popup =True\n",
    "    )"
   ]
  },
  {
   "cell_type": "code",
   "execution_count": null,
   "metadata": {},
   "outputs": [],
   "source": [
    "min_dist = geopandas.sjoin_nearest(left_df = breweries, right_df=monasteries, distance_col=\"distance\")\n",
    "min_dist.head()"
   ]
  },
  {
   "cell_type": "code",
   "execution_count": null,
   "metadata": {},
   "outputs": [],
   "source": [
    "breweries_projected = breweries.to_crs(\"EPSG:25832\")\n",
    "monasteries_projected = monasteries.to_crs(\"EPSG:25832\")"
   ]
  },
  {
   "cell_type": "code",
   "execution_count": null,
   "metadata": {},
   "outputs": [],
   "source": [
    "min_dist = geopandas.sjoin_nearest(left_df = breweries_projected, right_df=monasteries_projected, distance_col=\"distance[m]\")\n",
    "min_dist.head()"
   ]
  },
  {
   "cell_type": "code",
   "execution_count": null,
   "metadata": {},
   "outputs": [],
   "source": [
    "min_dist['distance[m]'].plot.hist(bins=100)"
   ]
  },
  {
   "cell_type": "code",
   "execution_count": null,
   "metadata": {},
   "outputs": [],
   "source": [
    "# reorder columns\n",
    "min_dist = min_dist.reindex(columns=['brewery', 'monastery', 'distance[m]', 'foundingYear_left', 'foundingYear_right', 'geometry'])\n",
    "# rename founding year columns\n",
    "min_dist = min_dist.rename(columns={'foundingYear_left': 'founding_brewery', 'foundingYear_right': 'founding_monastery'})\n",
    "# sort and reindex\n",
    "min_dist = min_dist.sort_values(by='distance[m]').reset_index().drop(columns='index')\n",
    "min_dist.head(n=20)"
   ]
  },
  {
   "cell_type": "code",
   "execution_count": null,
   "metadata": {},
   "outputs": [],
   "source": [
    "min_dist.explore(\n",
    "    column='distance[m]', \n",
    "    style_kwds={\"style_function\": lambda x: {\"radius\": x[\"properties\"][\"distance[m]\"]/1000}}, \n",
    "    popup =True,    \n",
    "    width =800,\n",
    "    height = 500\n",
    "    )\n"
   ]
  },
  {
   "cell_type": "code",
   "execution_count": null,
   "metadata": {},
   "outputs": [],
   "source": [
    "min_dist = min_dist.sort_values(by='distance[m]', ascending=False).reset_index().drop(columns='index')\n",
    "min_dist.explore(\n",
    "    column='distance[m]', \n",
    "    style_kwds={\"style_function\": lambda x: {\"radius\": (x[\"properties\"][\"distance[m]\"]/1000)+1}},  \n",
    "    popup =True,\n",
    "    width =800,\n",
    "    height = 500,\n",
    "    cmap = \"magma_r\",\n",
    "    tiles=\"Stamen Toner\"\n",
    "    )\n",
    "\n",
    "# colormaps in Python Matplotlib: https://matplotlib.org/stable/tutorials/colors/colormaps.html"
   ]
  }
 ],
 "metadata": {
  "kernelspec": {
   "display_name": "Python 3",
   "language": "python",
   "name": "python3"
  },
  "language_info": {
   "codemirror_mode": {
    "name": "ipython",
    "version": 3
   },
   "file_extension": ".py",
   "mimetype": "text/x-python",
   "name": "python",
   "nbconvert_exporter": "python",
   "pygments_lexer": "ipython3",
   "version": "3.11.1"
  },
  "orig_nbformat": 4
 },
 "nbformat": 4,
 "nbformat_minor": 2
}
