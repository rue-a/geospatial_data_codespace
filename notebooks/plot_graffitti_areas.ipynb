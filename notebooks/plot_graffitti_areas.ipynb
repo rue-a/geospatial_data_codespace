{
 "cells": [
  {
   "attachments": {},
   "cell_type": "markdown",
   "metadata": {},
   "source": [
    "### Räumlicher Plot legaler Graffittiflächen in Dresden\n",
    "\n",
    "Datensatz auf opendata.dresden.de: https://opendata.dresden.de/informationsportal/?open=1&result=3B7136B1ADF14E59A2E74D3FACE95C2C#app/mainpage/"
   ]
  },
  {
   "cell_type": "code",
   "execution_count": null,
   "metadata": {},
   "outputs": [],
   "source": [
    "# imports\n",
    "import geopandas\n",
    "import shapely"
   ]
  },
  {
   "cell_type": "code",
   "execution_count": null,
   "metadata": {},
   "outputs": [],
   "source": [
    "graffitti_areas = geopandas.read_file('../data/legale_graffitiflaechen.csv')\n",
    "graffitti_areas"
   ]
  },
  {
   "attachments": {},
   "cell_type": "markdown",
   "metadata": {},
   "source": [
    "In einem GeoPandas `GeoDataFrame` repräsentiert jede Zeile ein räumliches Objekt (-> Feature). Jedes Objekt hat eine ID, eine beliebige Anzahl weiterer Eigenschaften (Attribute) sowie eine räumliche Definition (automatisch angelegte Spalte `geometry`), siehe https://geopandas.org/en/stable/getting_started/introduction.html.\n",
    "\n",
    "<img src=\"../assets/geodataframe.png\" width=450px>\n",
    "\n",
    "\n",
    "\n",
    "Die eingeladene CSV besitzt bereits eine Spalte mit Objekt IDs (`id`), welche jedoch nicht automatisch als solche erkannt wird (daran zu sehen, dass eine neue Spalte ganz links angelegt wurde). Eine Spalte kann mittels `set_index()` als ID-Spalte definiert werden. \n",
    "\n",
    "Die `geometry`-Spalte ist mit `None` gefüllt. Die Werte müssen manuell aus der in der CSV vorhandenen Spalte `geom` ausgelesen werden. In `geom` sind zwei Informationen festgehalten, 1) die ID des jeweils verwendeten Koordinatenreferenzsystems (SRID) und 2) die Koordinaten. Die beiden Informationen sind mit Semikolon getrennt und SRID ist für jede Zeile im Datensatz gleich. Die Koordinaten sind im WKT-Format (Well-know Text, https://de.wikipedia.org/wiki/Simple_Feature_Access) angegeben.\n",
    "\n",
    "Schritte zur Definition der `geometry`-Spalte:\n",
    "1) Koordinatenreferenzsystem angeben\n",
    "    - Methode `set_crs()` -- nimmt eine Koordinatenreferenzsystem-ID entgegen\n",
    "    - Koordinatenreferenzsystem-ID aus erster Spalte extrahieren (`graffitti_areas_gdf['geom'][0].split(';')[0].split('=')[1]`)\n",
    "2) Feature-Geometries definieren\n",
    "    - die Spalte `geometry` muss Objekte der Klasse `shaleply.Geometry` (https://shapely.readthedocs.io/en/stable/geometry.html) enthalten\n",
    "    - die Python Bibliothek `shapely` hat die Methode `from_wkt()` , welche ein `shapely.Geometry` Objekt aus einem WKT-String erzeugt\n",
    "    - wir iterieren also durch die exisiterende `geom`-Spalte, extrahieren die WKT-Strings, wandeln diese in eine `shapely.Geometery` um, und schreiben diese dann in eine neue Liste, welche wir final als `geometry`-Spalte definieren. "
   ]
  },
  {
   "cell_type": "code",
   "execution_count": null,
   "metadata": {},
   "outputs": [],
   "source": [
    "# set index column\n",
    "graffitti_areas = graffitti_areas.set_index('id')\n",
    "# extract CRS code from first column in `geom`\n",
    "graffitti_areas = graffitti_areas.set_crs(graffitti_areas['geom'][0].split(';')[0].split('=')[1])\n",
    "# create list that only contains Shapely Geometries from WKT-Strings in `geom` column\n",
    "graffitti_areas.geometry = [shapely.from_wkt(geom.split(';')[1]) for geom in graffitti_areas['geom']]\n",
    "# # remove geom column\n",
    "graffitti_areas = graffitti_areas.drop(columns='geom')\n",
    "graffitti_areas"
   ]
  },
  {
   "cell_type": "code",
   "execution_count": null,
   "metadata": {},
   "outputs": [],
   "source": [
    "# explore()-documentation: https://geopandas.org/en/stable/docs/reference/api/geopandas.GeoDataFrame.explore.html\n",
    "graffitti_areas.explore(\n",
    "    tooltip=[\"adresse\", \"bemerkung\", \"groesse\"],\n",
    "    tooltip_kwds=dict(labels=False),\n",
    "    color=\"tomato\", \n",
    "    marker_kwds=dict(radius=10, fill=True),\n",
    "    width =800,\n",
    "    height = 500,\n",
    "    tiles=\"Stamen Toner\"\n",
    ")"
   ]
  }
 ],
 "metadata": {
  "kernelspec": {
   "display_name": "Python 3",
   "language": "python",
   "name": "python3"
  },
  "language_info": {
   "codemirror_mode": {
    "name": "ipython",
    "version": 3
   },
   "file_extension": ".py",
   "mimetype": "text/x-python",
   "name": "python",
   "nbconvert_exporter": "python",
   "pygments_lexer": "ipython3",
   "version": "3.11.1"
  },
  "orig_nbformat": 4
 },
 "nbformat": 4,
 "nbformat_minor": 2
}
